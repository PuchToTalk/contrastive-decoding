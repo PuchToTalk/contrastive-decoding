{
 "cells": [
  {
   "cell_type": "markdown",
   "metadata": {},
   "source": [
    "# Contrastive Decoding Exploration\n",
    "\n",
    "Use this notebook after installing the project requirements to compare baseline greedy decoding with contrastive decoding across multiple prompts."
   ]
  },
  {
   "cell_type": "code",
   "execution_count": null,
   "metadata": {},
   "outputs": [],
   "source": [
    "import transformers as tr\n",
    "\n",
    "from contrastive_decoding import CDConfig, contrastive_decode, format_prompt, load_model, pick_device_dtype\n",
    "from contrastive_decoding.utils import ensure_padding_token\n",
    "\n",
    "amateur_path = \"Qwen/Qwen2.5-Coder-0.5B-Instruct\"\n",
    "expert_path = \"Qwen/Qwen2.5-1.5B-Instruct\"\n",
    "\n",
    "device, dtype = pick_device_dtype()\n",
    "tokenizer = tr.AutoTokenizer.from_pretrained(expert_path)\n",
    "ensure_padding_token(tokenizer)\n",
    "\n",
    "expert = load_model(expert_path, device, dtype)\n",
    "amateur = load_model(amateur_path, device, dtype)\n",
    "\n",
    "cfg = CDConfig(max_new_tokens=40, alpha=0.1, top_k=50, stream=False)\n",
    "\n",
    "prompts = {\n",
    "    \"Haiku\": open('examples/haiku.txt').read().strip(),\n",
    "    \"Docstring\": open('examples/docstring.txt').read().strip(),\n",
    "    \"Custom\": \"Summarize the key goals of contrastive decoding in two sentences.\",\n",
    "}\n",
    "\n",
    "for name, user_prompt in prompts.items():\n",
    "    formatted = format_prompt(tokenizer, user_prompt, use_chat_template=True)\n",
    "    print(f\"\\n## {name}\\n\")\n",
    "    print(contrastive_decode(amateur, expert, tokenizer, formatted, cfg, device))\n"
   ]
  },
  {
   "cell_type": "markdown",
   "metadata": {},
   "source": [
    "Experiment with `alpha`, `top_k`, and `tau_amateur` to see how the resulting generations change. For longer generations you may also want to disable streaming (`--no-stream`) when using the CLI."
   ]
  }
 ],
 "metadata": {
  "kernelspec": {
   "display_name": "Python 3",
   "language": "python",
   "name": "python3"
  },
  "language_info": {
   "name": "python"
  }
 },
 "nbformat": 4,
 "nbformat_minor": 5
}
